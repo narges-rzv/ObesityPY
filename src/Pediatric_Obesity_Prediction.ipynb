{
 "cells": [
  {
   "cell_type": "markdown",
   "metadata": {},
   "source": [
    "# Pediatric Obesity Prediction\n",
    "\n",
    "### 13 April 2018\n",
    "### Rob Hammond\n",
    "\n",
    "This notebook acts as both a demonstration of how to use the ObesityPY package as well as the final results of the modeling for the Comprehensive Program on Obesity"
   ]
  },
  {
   "cell_type": "code",
   "execution_count": null,
   "metadata": {},
   "outputs": [],
   "source": [
    "import pickle\n",
    "import train\n",
    "import build_features\n",
    "import numpy as np\n",
    "import pandas as pd\n",
    "import time\n",
    "import os\n",
    "import matplotlib.pyplot as plt\n",
    "\n",
    "%matplotlib inline\n",
    "%config InlineBackend.figure_format = 'retina'\n",
    "pd.options.display.max_columns = 500\n",
    "pd.options.display.max_rows = 500"
   ]
  },
  {
   "cell_type": "markdown",
   "metadata": {},
   "source": [
    "### Load the data"
   ]
  },
  {
   "cell_type": "code",
   "execution_count": null,
   "metadata": {},
   "outputs": [],
   "source": [
    "#Get the data\n",
    "d1 = pickle.load(open('../python objects/patientdata_20170823.pkl', 'rb'))\n",
    "d1mom = pickle.load(open('../python objects/patient_mother_data_20170724.pkl', 'rb'))\n",
    "lat_lon_dic = pickle.load(open('../python objects/lat_lon_data_20180329.pkl', 'rb'))\n",
    "env_dic= pickle.load(open('../python objects/census_data_20170920.pkl', 'rb'))\n",
    "d1mom_hist = pickle.load(open('../python objects/full_lutheran_mother_data.pkl', 'rb'))\n"
   ]
  },
  {
   "cell_type": "markdown",
   "metadata": {},
   "source": [
    "### Initialize variables for predicting using data from 0 to 24 months to predict at 4.5 to 5.5 years"
   ]
  },
  {
   "cell_type": "code",
   "execution_count": null,
   "metadata": {},
   "outputs": [],
   "source": [
    "timestr = time.strftime(\"%Y%m%d\")\n",
    "newdir='../outputs_age_analyses'+timestr\n",
    "if not os.path.isdir(newdir):\n",
    "    os.mkdir(newdir)"
   ]
  },
  {
   "cell_type": "code",
   "execution_count": null,
   "metadata": {},
   "outputs": [],
   "source": [
    "agex_low = 4.5\n",
    "agex_high = 5.5\n",
    "months_from = 0\n",
    "months_to = 24"
   ]
  },
  {
   "cell_type": "markdown",
   "metadata": {},
   "source": [
    "### Create the data base level data"
   ]
  },
  {
   "cell_type": "code",
   "execution_count": null,
   "metadata": {},
   "outputs": [],
   "source": [
    "x1,y1,y1label,feature_headers,mrns = build_features.call_build_function(d1, d1mom, d1mom_hist, lat_lon_dic, env_dic, agex_low, agex_high, months_from, months_to, False, prediction='multi')\n",
    "\n",
    "np.savez_compressed(newdir+'/raw_matrix_data_'+str(months_to)+'months', x=x1, y=y1, ylabel=y1label, mrns=mrns, features=np.array(feature_headers))"
   ]
  },
  {
   "cell_type": "code",
   "execution_count": null,
   "metadata": {},
   "outputs": [],
   "source": [
    "label_ix = {'underweight':0,'normal':1,'overweight':2,'obese':3,'class I severe obesity':4,'class II severe obesity':5}\n",
    "for label, ix in label_ix.items():\n",
    "    print('Number of {0:s} children: {1:,d}'.format(label,int(y1label[:,ix].sum())))"
   ]
  },
  {
   "cell_type": "markdown",
   "metadata": {},
   "source": [
    "### Get modeling subset and split into boys and girls data sets for predicting the Obese label"
   ]
  },
  {
   "cell_type": "code",
   "execution_count": null,
   "metadata": {},
   "outputs": [],
   "source": [
    "no_wt_bmi = [fh for fh in feature_headers if not any([x in fh for x in ('Wt','BMI')])]\n",
    "no_census = [fh for fh in feature_headers if not any([x in fh.lower() for x in ('census','zipcode')])]\n",
    "\n",
    "data = {'boys':{\n",
    "    'no_min':{\n",
    "        'full':{'data':[], 'variablesubset':[], 'filt_str':['Gender:0']},\n",
    "        'no_census':{'data':[], 'variablesubset':no_census, 'filt_str':['Gender:0']},\n",
    "        'no_wt_bmi':{'data':[], 'variablesubset':no_wt_bmi, 'filt_str':['Gender:0']},\n",
    "        'wfl_latest':{'data':[], 'variablesubset':no_wt_bmi, 'filt_str':['Gender:0']},\n",
    "        'wfl_19_24':{'data':[], 'variablesubset':[], 'filt_str':['Gender:0','Vital: Wt for Length ZScore-avg19to24']},\n",
    "        'wfl_latest':{'data':[], 'variablesubset':[], 'filt_str':['Gender:0', 'Vital: Wt for Length ZScore-avg19to24']},\n",
    "        'bmi_19_24':{'data':[], 'variablesubset':[], 'filt_str':['Gender:0','Vital: BMI-avg19to24']},\n",
    "        'bmi_latest':{'data':[], 'variablesubset':[], 'filt_str':['Gender:0', 'Vital: BMI-latest']}\n",
    "        },\n",
    "    'min_5':{\n",
    "        'full':{'data':[], 'variablesubset':[], 'filt_str':['Gender:0']},\n",
    "        'no_census':{'data':[], 'variablesubset':no_census, 'filt_str':['Gender:0']},\n",
    "        'no_wt_bmi':{'data':[], 'variablesubset':no_wt_bmi, 'filt_str':['Gender:0']}\n",
    "        },\n",
    "    'lasso_fts':{\n",
    "        'full':{'data':[], 'variablesubset':[]}, 'filt_str':['Gender:0'],\n",
    "        'no_census':{'data':[], 'variablesubset':no_census, 'filt_str':['Gender:0']},\n",
    "        'no_wt_bmi':{'data':[], 'variablesubset':no_wt_bmi, 'filt_str':['Gender:0']}\n",
    "        },\n",
    "    },\n",
    "    'girls':{\n",
    "        'no_min':{\n",
    "            'full':{'data':[], 'variablesubset':[], 'filt_str':['Gender:1']},\n",
    "            'no_census':{'data':[], 'variablesubset':no_census, 'filt_str':['Gender:1']},\n",
    "            'no_wt_bmi':{'data':[], 'variablesubset':no_wt_bmi, 'filt_str':['Gender:1']},\n",
    "            'wfl_19_24':{'data':[], 'variablesubset':[], 'filt_str':['Gender:1','Vital: Wt for Length ZScore-avg19to24']},\n",
    "            'wfl_latest':{'data':[], 'variablesubset':[], 'filt_str':['Gender:1', 'Vital: Wt for Length ZScore-avg19to24']},\n",
    "            'bmi_19_24':{'data':[], 'variablesubset':[], 'filt_str':['Gender:1','Vital: BMI-avg19to24']},\n",
    "            'bmi_latest':{'data':[], 'variablesubset':[], 'filt_str':['Gender:1', 'Vital: BMI-latest']}\n",
    "            },\n",
    "        'min_5':{\n",
    "            'full':{'data':[], 'variablesubset':[], 'filt_str':['Gender:1'],\n",
    "            'no_census':{'data':[], 'variablesubset':no_census, 'filt_str':['Gender:1']},\n",
    "            'no_wt_bmi':{'data':[], 'variablesubset':no_wt_bmi, 'filt_str':['Gender:1']}\n",
    "            },\n",
    "        'lasso_fts':{\n",
    "            'full':{'data':[], 'variablesubset':[], 'filt_str':['Gender:1']},\n",
    "            'no_census':{'data':[], 'variablesubset':no_census, 'filt_str':['Gender:1']},\n",
    "            'no_wt_bmi':{'data':[], 'variablesubset':no_wt_bmi, 'filt_str':['Gender:1']}\n",
    "            }\n",
    "        }\n",
    "    }\n",
    "}"
   ]
  },
  {
   "cell_type": "code",
   "execution_count": null,
   "metadata": {},
   "outputs": [],
   "source": [
    "for gender in [*data]:\n",
    "    for subset in [*data[gender]]:\n",
    "        min_occ = 5 if subset == 'min_5' else 0\n",
    "        lasso_sel = True if subset == 'lasso_fts' else False\n",
    "        for filt in [*data[gender][subset]]:\n",
    "            x2, y2, y2label, mrns2, ix_filter, feature_headers2, corr_headers_filtered, corrs_matrix_filterd, ix_corr_headers = \\\n",
    "                train.prepare_data_for_analysis({}, {}, {}, {}, {},\n",
    "                    x1, y1, y1label[:,label_ix['obese']], feature_headers, mrns,\n",
    "                    agex_low, agex_high, months_from, months_to,\n",
    "                    filterSTR=data[gender][subset][filt]['filt_str'],\n",
    "                    variablesubset=data[gender][subset][filt]['variablesubset'],\n",
    "                    do_impute=False,\n",
    "                    do_normalize=True,\n",
    "                    min_occur=min_occ,\n",
    "                    feature_info=False,\n",
    "                    delay_print=False,\n",
    "                    lasso_selection=lasso_sel)\n",
    "        corr_headers_filtered = np.array(corr_headers_filtered) if type(corr_headers_filtered) == list else corr_headers_filtered\n",
    "        ix_corr_headers = np.array(ix_corr_headers) if type(ix_corr_headers) == list else ix_corr_headers\n",
    "        data[gender][subset][filt][data] = [x2, y2, y2label, mrns2, ix_filter, feature_headers2, corr_headers_filtered, corrs_matrix_filterd, ix_corr_headers]\n",
    "        fname=newdir+'/'+'_'.join(['x2',gender,months_to,'months_obese',subset,filt])\n",
    "        np.savez_compressed(fname, x2=x2, mrns2=mrns2, features2=np.array(feature_headers2), y2=y2, y2label=y2label, corr_mat=corrs_matrix_filterd, ix_corr_headers=ix_corr_headers, corr_headers_filtered=corr_headers_filtered)\n",
    "        print('data saved to',fname)\n",
    "\n"
   ]
  },
  {
   "cell_type": "markdown",
   "metadata": {},
   "source": [
    "### Run all the models"
   ]
  },
  {
   "cell_type": "code",
   "execution_count": null,
   "metadata": {},
   "outputs": [],
   "source": [
    "title_list = []\n",
    "auc_list = []\n",
    "r2_list = []\n",
    "exp_var_list = []\n",
    "prec_list = []\n",
    "results_list = []\n",
    "features_list = []"
   ]
  },
  {
   "cell_type": "code",
   "execution_count": null,
   "metadata": {},
   "outputs": [],
   "source": [
    "for gender in [*data]:\n",
    "    for subset in [*data[gender]]:\n",
    "        for filt in [*data[gender][subset]]:\n",
    "            x2, y2, y2label, mrns2, ix_filter, feature_headers2, corr_headers_filtered, corrs_matrix_filterd, ix_corr_headers = data[gender][subset][filt]['data']\n",
    "            for model_type in ('lasso','randomforest','gradientboost'):\n",
    "                title = ' '.join([gender.title(),'-',model_type.title(),subset,filt,'@'+str(months_to), 'obese'])\n",
    "                (model_list, randix_track, ix_train_track, ix_val_track, test_ix, results_arr, results_cols,\n",
    "                 feature_data, feature_data_cols, auc_val_mean, auc_val_mean_ste, var_val_mean, var_val_mean_ste, r2val_mean, r2val_mean_ste,\n",
    "                 auc_test_mean, auc_test_mean_ste, var_test_mean, var_test_mean_ste, r2test_mean, r2test_ste) = \\\n",
    "                        train.train_regression_model_for_bmi_parallel(x2, y2_no, y2label, feature_headers2, mrns2,\n",
    "                            corr_headers_filtered, corr_matrix_filtered, ix_corr_headers,\n",
    "                            modelType=model_type,\n",
    "                            percentile=False,\n",
    "                            return_data_for_error_analysis=False,\n",
    "                            feature_info=True)\n",
    "\n",
    "                title_list.append(title)\n",
    "                auc_list.append([auc_val_mean, auc_val_mean_ste, auc_test_mean, auc_test_mean_ste])\n",
    "                r2_list.append([r2val_mean, r2val_mean_ste, r2test_mean, r2test_mean_ste])\n",
    "                exp_var_list.append([exp_var_val_mean, exp_var_val_mean_ste, exp_var_test_mean, exp_var_test_mean_ste])\n",
    "                results_list.append(results_arr)\n",
    "                features_list.append(feature_data)\n",
    "                fname = newdir+'_'.join(['/'+gender,str(months_to),'months_obese',model_type,'index',subset,filt])\n",
    "                np.savez_compressed(fname, cv_ix=randix_track, train_ix=ix_train_track, val_ix=ix_val_track, test_ix=test_ix)\n",
    "                print('Train/Validation/Test indices saved to:',fname)\n",
    "                fname = newdir+'_'.join(['/'+gender,str(months_to),'months_obese',model_type,'results',subset,filt])\n",
    "                np.savez_compressed(fname, results=results_arr, results_cols=results_cols, features=feature_data, feature_cols=feature_data_cols)\n",
    "                print('Train/Validation/Test indices saved to:',fname)\n",
    "                fname = newdir+'_'.join(['/'+gender,str(months_to),'months_obese',model_type,'models',subset,filt])\n",
    "                pickle.dump(model_list, open(fname, 'wb'))\n",
    "                print('Train/Validation/Test indices saved to:',fname)\n",
    "                \n",
    "                      "
   ]
  },
  {
   "cell_type": "code",
   "execution_count": null,
   "metadata": {},
   "outputs": [],
   "source": [
    "pickle.dump(titles_list, open(newdir+'/titles_list_'+str(months_to)+'_months_obese.pkl', 'wb'))\n",
    "pickle.dump(prec_list, open(newdir+'/prec_total_'+str(months_to)+'_months_obese.pkl', 'wb'))\n",
    "pickle.dump(recall_total, open(newdir+'/recall_total_'+str(months_to)+'_months_obese.pkl', 'wb'))\n",
    "pickle.dump(spec_total, open(newdir+'/spec_total_'+str(months_to)+'_months_obese.pkl', 'wb'))\n",
    "pickle.dump(auc_list, open(newdir+'/auc_list_'+str(months_to)+'_months_obese.pkl', 'wb'))\n",
    "pickle.dump(r2_list, open(newdir+'/r2_list_'+str(months_to)+'_months_obese.pkl', 'wb'))\n",
    "pickle.dump(results_list, open(newdir+'/results_list'+str(months_to)+'_months_obese.pkl', 'wb'))\n",
    "pickle.dump(features_list, open(newdir+'/features_list'+str(months_to)+'_months_obese.pkl', 'wb'))"
   ]
  },
  {
   "cell_type": "code",
   "execution_count": null,
   "metadata": {},
   "outputs": [],
   "source": []
  }
 ],
 "metadata": {
  "kernelspec": {
   "display_name": "Python 3",
   "language": "python",
   "name": "python3"
  }
 },
 "nbformat": 4,
 "nbformat_minor": 2
}
