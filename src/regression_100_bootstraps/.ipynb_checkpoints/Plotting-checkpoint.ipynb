{
 "cells": [
  {
   "cell_type": "code",
   "execution_count": 1,
   "metadata": {
    "collapsed": true
   },
   "outputs": [],
   "source": [
    "import train\n",
    "import build_features\n",
    "\n",
    "import os\n",
    "import time\n",
    "import pickle\n",
    "import random\n",
    "import numpy as np\n",
    "import pandas as pd\n",
    "import matplotlib.pyplot as plt\n",
    "\n",
    "from datetime import datetime\n",
    "\n",
    "%matplotlib inline\n",
    "# %config InlineBackend.figure_format = 'retina'\n",
    "\n",
    "pd.options.display.max_columns = 500\n",
    "pd.options.display.max_rows = 500\n",
    "pd.options.display.width = 1000"
   ]
  },
  {
   "cell_type": "code",
   "execution_count": 2,
   "metadata": {},
   "outputs": [
    {
     "name": "stderr",
     "output_type": "stream",
     "text": [
      "Processing 52,945 patients: 52945it [03:21, 263.32it/s]   \n"
     ]
    }
   ],
   "source": [
    "# Get the data\n",
    "d1 = pickle.load(open('../python objects/patientdata_20170823.pkl', 'rb'))\n",
    "d1mom = pickle.load(open('../python objects/patient_mother_data_20170724.pkl', 'rb'))\n",
    "lat_lon_dic = pickle.load(open('../python objects/lat_lon_data_20180329.pkl', 'rb'))\n",
    "env_dic = pickle.load(open('../python objects/census_data_20170920.pkl', 'rb'))\n",
    "d1mom_hist = pickle.load(open('../python objects/full_lutheran_mother_data.pkl', 'rb'))\n",
    "\n",
    "# Set the age parameters\n",
    "agex_low = 4.5\n",
    "agex_high = 5.5\n",
    "months_from = 0\n",
    "months_to = 24\n",
    "\n",
    "# Create the main matrix\n",
    "x1, y1, y1label, feature_headers, mrns = build_features.call_build_function(d1, d1mom, d1mom_hist, lat_lon_dic, env_dic, agex_low, agex_high, months_from, months_to, False, prediction='multi')"
   ]
  },
  {
   "cell_type": "code",
   "execution_count": 3,
   "metadata": {},
   "outputs": [
    {
     "name": "stdout",
     "output_type": "stream",
     "text": [
      "data loaded\n"
     ]
    }
   ],
   "source": [
    "# Unmodified Original Data\n",
    "orig_data = np.load('../outputs_24_months_final_20180430/raw_matrix_data_24months.npz')\n",
    "x1 = orig_data['x']\n",
    "y1 = orig_data['y']\n",
    "y1label = orig_data['ylabel']\n",
    "mrns1 = orig_data['mrns']\n",
    "features1 = orig_data['features']\n",
    "\n",
    "# Test Set Indicies\n",
    "test_ix = np.load('../outputs_24_months_final_20180430/test_ix.npz')\n",
    "test_ix_boys = test_ix['boys']\n",
    "test_ix_girls = test_ix['girls']\n",
    "\n",
    "\n",
    "# Best performing boys subset\n",
    "boys = np.load('../outputs_24_months_final_20180430/x2_boys_24_months_obese_no_min_full.npz')\n",
    "x2b = boys['x2']\n",
    "y2b = boys['y2']\n",
    "y2labelb = boys['y2label']\n",
    "features2b = boys['features2']\n",
    "mrns2b = boys['mrns2']\n",
    "ix_filterb = np.array([m in mrns2b for m in mrns1])\n",
    "corr_matrix_filteredb = boys['corr_mat']\n",
    "ix_corr_headersb = boys['ix_corr_headers']\n",
    "corr_headers_filteredb = boys['corr_headers_filtered']\n",
    "boys_data = [x2b, y2b]\n",
    "\n",
    "# Best performing boys subset\n",
    "girls = np.load('../outputs_24_months_final_20180430/x2_girls_24_months_obese_lasso_fts_full.npz')\n",
    "x2g = girls['x2']\n",
    "y2g = girls['y2']\n",
    "y2labelg = girls['y2label']\n",
    "features2g = girls['features2']\n",
    "mrns2g = girls['mrns2']\n",
    "ix_filterg = np.array([m in mrns2g for m in mrns1])\n",
    "corr_matrix_filteredg = girls['corr_mat']\n",
    "ix_corr_headersg = girls['ix_corr_headers']\n",
    "corr_headers_filteredg = girls['corr_headers_filtered']\n",
    "\n",
    "data = {\n",
    "    'boys': {\n",
    "        'data':[\n",
    "            x2b, y2b, y2labelb, mrns2b, ix_filterb, features2b, \n",
    "            corr_headers_filteredb, corr_matrix_filteredb, ix_corr_headersb\n",
    "        ],\n",
    "        'models':[],\n",
    "        'results':[],\n",
    "        'feat_data':[],\n",
    "        'auc':[],\n",
    "        'r2':[],\n",
    "        'exp_var':[],\n",
    "        'randix_track':[],\n",
    "        'ix_train_track':[],\n",
    "        'ix_val_track':[],\n",
    "    },\n",
    "    'girls': {\n",
    "        'data':[\n",
    "            x2g, y2g, y2labelg, mrns2g, ix_filterg, features2g, \n",
    "            corr_headers_filteredg, corr_matrix_filteredg, ix_corr_headersg\n",
    "        ],\n",
    "        'models':[],\n",
    "        'results':[],\n",
    "        'feat_data':[],\n",
    "        'auc':[],\n",
    "        'r2':[],\n",
    "        'exp_var':[],\n",
    "        'randix_track':[],\n",
    "        'ix_train_track':[],\n",
    "        'ix_val_track':[],\n",
    "    }\n",
    "}\n",
    "print('data loaded')"
   ]
  },
  {
   "cell_type": "code",
   "execution_count": 5,
   "metadata": {},
   "outputs": [
    {
     "name": "stdout",
     "output_type": "stream",
     "text": [
      "Vital: BMI-latest\n",
      "Vital: HC-latest\n",
      "Vital: Wt-latest\n",
      "Vital: Wt Change-latest\n",
      "Vital: Wt Percentile-latest\n",
      "Vital: Temp-latest\n",
      "Vital: Temp-avg0to1\n",
      "Vital: BMI-avg7to10\n",
      "Vital: BMI-avg10to13\n",
      "Vital: BMI-avg13to16\n",
      "Vital: Wt-avg13to16\n",
      "Vital: Wt for Len Percentile-avg13to16\n",
      "Vital: BMI-avg16to19\n",
      "Vital: Wt-avg16to19\n",
      "Vital: Wt for Len Percentile-avg16to19\n",
      "Vital: BMI-avg19to24\n",
      "Vital: Wt-avg19to24\n",
      "Vital: Wt Change-avg19to24\n",
      "Vital: Wt for Len Percentile-gain5to10\n",
      "Vital: Ht Percentile-gain16to24\n",
      "Vital: BMI-gain0to24\n",
      "Vital: Wt-gain0to24\n",
      "Census:Percent; Estimate; Population 25 years and over - Associate's degree-birth\n",
      "Census:Unemployment rate; Estimate; Population 20 to 64 years-birth\n",
      "MatDeliveryAge\n",
      "Vital: Wt-postPregnancy\n",
      "Vital: Wt for Length ZScore-avg1to3\n",
      "Vital: Wt for Length ZScore-avg3to5\n",
      "Vital: Wt for Length ZScore-avg7to10\n",
      "Vital: Wt for Length Zscore-avg10to13\n",
      "Vital: Wt for Length ZScore-avg13to16\n",
      "Vital: Wt for Length ZScore-avg16to19\n",
      "Vital: Wt for Length ZScore-latest\n",
      "Vital: Wt for Length ZScore-gain0to24\n"
     ]
    }
   ],
   "source": [
    "for f in features2g:\n",
    "    print(f)"
   ]
  },
  {
   "cell_type": "code",
   "execution_count": null,
   "metadata": {
    "collapsed": true
   },
   "outputs": [],
   "source": []
  }
 ],
 "metadata": {
  "kernelspec": {
   "display_name": "Python 3",
   "language": "python",
   "name": "python3"
  },
  "language_info": {
   "codemirror_mode": {
    "name": "ipython",
    "version": 3
   },
   "file_extension": ".py",
   "mimetype": "text/x-python",
   "name": "python",
   "nbconvert_exporter": "python",
   "pygments_lexer": "ipython3",
   "version": "3.6.4"
  }
 },
 "nbformat": 4,
 "nbformat_minor": 2
}
