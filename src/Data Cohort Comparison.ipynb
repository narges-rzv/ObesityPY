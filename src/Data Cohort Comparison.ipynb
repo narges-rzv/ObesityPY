{
 "cells": [
  {
   "cell_type": "code",
   "execution_count": 1,
   "metadata": {
    "scrolled": true
   },
   "outputs": [
    {
     "name": "stderr",
     "output_type": "stream",
     "text": [
      "/home/rob/Documents/GitHub/ObesityPY/src/train.py:12: UserWarning: \n",
      "This call to matplotlib.use() has no effect because the backend has already\n",
      "been chosen; matplotlib.use() must be called *before* pylab, matplotlib.pyplot,\n",
      "or matplotlib.backends is imported for the first time.\n",
      "\n",
      "The backend was *originally* set to 'module://ipykernel.pylab.backend_inline' by the following code:\n",
      "  File \"/home/rob/anaconda3/lib/python3.6/runpy.py\", line 193, in _run_module_as_main\n",
      "    \"__main__\", mod_spec)\n",
      "  File \"/home/rob/anaconda3/lib/python3.6/runpy.py\", line 85, in _run_code\n",
      "    exec(code, run_globals)\n",
      "  File \"/home/rob/anaconda3/lib/python3.6/site-packages/ipykernel_launcher.py\", line 16, in <module>\n",
      "    app.launch_new_instance()\n",
      "  File \"/home/rob/anaconda3/lib/python3.6/site-packages/traitlets/config/application.py\", line 658, in launch_instance\n",
      "    app.start()\n",
      "  File \"/home/rob/anaconda3/lib/python3.6/site-packages/ipykernel/kernelapp.py\", line 477, in start\n",
      "    ioloop.IOLoop.instance().start()\n",
      "  File \"/home/rob/anaconda3/lib/python3.6/site-packages/zmq/eventloop/ioloop.py\", line 177, in start\n",
      "    super(ZMQIOLoop, self).start()\n",
      "  File \"/home/rob/anaconda3/lib/python3.6/site-packages/tornado/ioloop.py\", line 888, in start\n",
      "    handler_func(fd_obj, events)\n",
      "  File \"/home/rob/anaconda3/lib/python3.6/site-packages/tornado/stack_context.py\", line 277, in null_wrapper\n",
      "    return fn(*args, **kwargs)\n",
      "  File \"/home/rob/anaconda3/lib/python3.6/site-packages/zmq/eventloop/zmqstream.py\", line 440, in _handle_events\n",
      "    self._handle_recv()\n",
      "  File \"/home/rob/anaconda3/lib/python3.6/site-packages/zmq/eventloop/zmqstream.py\", line 472, in _handle_recv\n",
      "    self._run_callback(callback, msg)\n",
      "  File \"/home/rob/anaconda3/lib/python3.6/site-packages/zmq/eventloop/zmqstream.py\", line 414, in _run_callback\n",
      "    callback(*args, **kwargs)\n",
      "  File \"/home/rob/anaconda3/lib/python3.6/site-packages/tornado/stack_context.py\", line 277, in null_wrapper\n",
      "    return fn(*args, **kwargs)\n",
      "  File \"/home/rob/anaconda3/lib/python3.6/site-packages/ipykernel/kernelbase.py\", line 283, in dispatcher\n",
      "    return self.dispatch_shell(stream, msg)\n",
      "  File \"/home/rob/anaconda3/lib/python3.6/site-packages/ipykernel/kernelbase.py\", line 235, in dispatch_shell\n",
      "    handler(stream, idents, msg)\n",
      "  File \"/home/rob/anaconda3/lib/python3.6/site-packages/ipykernel/kernelbase.py\", line 399, in execute_request\n",
      "    user_expressions, allow_stdin)\n",
      "  File \"/home/rob/anaconda3/lib/python3.6/site-packages/ipykernel/ipkernel.py\", line 196, in do_execute\n",
      "    res = shell.run_cell(code, store_history=store_history, silent=silent)\n",
      "  File \"/home/rob/anaconda3/lib/python3.6/site-packages/ipykernel/zmqshell.py\", line 533, in run_cell\n",
      "    return super(ZMQInteractiveShell, self).run_cell(*args, **kwargs)\n",
      "  File \"/home/rob/anaconda3/lib/python3.6/site-packages/IPython/core/interactiveshell.py\", line 2698, in run_cell\n",
      "    interactivity=interactivity, compiler=compiler, result=result)\n",
      "  File \"/home/rob/anaconda3/lib/python3.6/site-packages/IPython/core/interactiveshell.py\", line 2802, in run_ast_nodes\n",
      "    if self.run_code(code, result):\n",
      "  File \"/home/rob/anaconda3/lib/python3.6/site-packages/IPython/core/interactiveshell.py\", line 2862, in run_code\n",
      "    exec(code_obj, self.user_global_ns, self.user_ns)\n",
      "  File \"<ipython-input-1-5fd1285108f4>\", line 6, in <module>\n",
      "    from matplotlib import pyplot as plt\n",
      "  File \"/home/rob/anaconda3/lib/python3.6/site-packages/matplotlib/pyplot.py\", line 69, in <module>\n",
      "    from matplotlib.backends import pylab_setup\n",
      "  File \"/home/rob/anaconda3/lib/python3.6/site-packages/matplotlib/backends/__init__.py\", line 14, in <module>\n",
      "    line for line in traceback.format_stack()\n",
      "\n",
      "\n",
      "  matplotlib.use('TkAgg')\n"
     ]
    },
    {
     "data": {
      "text/html": [
       "<style>.container { width:98% !important; }</style>"
      ],
      "text/plain": [
       "<IPython.core.display.HTML object>"
      ]
     },
     "metadata": {},
     "output_type": "display_data"
    }
   ],
   "source": [
    "import pickle\n",
    "import numpy as np\n",
    "import pandas as pd\n",
    "import importlib as imp\n",
    "\n",
    "from matplotlib import pyplot as plt\n",
    "from IPython.core.display import display, HTML\n",
    "\n",
    "import train\n",
    "import build_features\n",
    "\n",
    "%matplotlib inline\n",
    "%config InlineBackend.figure_format = 'retina'\n",
    "\n",
    "pd.set_option('display.max_columns', 1000)\n",
    "display(HTML(\"<style>.container { width:98% !important; }</style>\"))"
   ]
  },
  {
   "cell_type": "markdown",
   "metadata": {},
   "source": [
    "## Import the pickled data and define the age ranges"
   ]
  },
  {
   "cell_type": "code",
   "execution_count": 2,
   "metadata": {
    "collapsed": true
   },
   "outputs": [],
   "source": [
    "d1 = pickle.load(open('<path>/ObesityPY/python objects/patientdata_20170823.pkl', 'rb')) # first cohort data\n",
    "d2 = pickle.load(open('<path>/Documents/patient_data_2_20180829.pkl', 'rb')) # second cohort data\n",
    "\n",
    "d1mom = pickle.load(open('<path>/ObesityPY/python objects/patient_mother_data_20170724.pkl', 'rb')) # maternal data for first cohort (from time of birth)\n",
    "d1mom_hist = pickle.load(open('<path>/ObesityPY/python objects/full_lutheran_mother_data.pkl', 'rb')) # maternal data for first cohort (any record, aside from birth, if at same hospital)"
   ]
  },
  {
   "cell_type": "code",
   "execution_count": 3,
   "metadata": {
    "collapsed": true
   },
   "outputs": [],
   "source": [
    "agex_low = 4.5 # lower bound on data to be used for y (in years)\n",
    "agex_high = 5.5 # upper bound on data to be used for y (in years)\n",
    "months_from = 0 # lower bound on data to be used for X (in months)\n",
    "months_to = 24 # upper bound on data to be used for X (in months)"
   ]
  },
  {
   "cell_type": "markdown",
   "metadata": {},
   "source": [
    "## Create a data array for the first cohort"
   ]
  },
  {
   "cell_type": "code",
   "execution_count": 4,
   "metadata": {},
   "outputs": [
    {
     "name": "stderr",
     "output_type": "stream",
     "text": [
      "Processing 52,945 patients: 52945it [02:55, 302.44it/s]   \n"
     ]
    }
   ],
   "source": [
    "x1_1, y1_1, y1_1label, feature_headers, mrns1_1 = build_features.call_build_function(\n",
    "    d1, d1mom, d1mom_hist, {}, {}, \n",
    "    agex_low, agex_high, months_from, months_to, \n",
    "    False, prediction='multi'\n",
    ")"
   ]
  },
  {
   "cell_type": "code",
   "execution_count": 5,
   "metadata": {},
   "outputs": [
    {
     "data": {
      "text/plain": [
       "((52945, 19253), (11494, 19253))"
      ]
     },
     "execution_count": 5,
     "metadata": {},
     "output_type": "execute_result"
    }
   ],
   "source": [
    "x1_1.shape, x1_1[(x1_1.sum(axis=1) > 0)].shape"
   ]
  },
  {
   "cell_type": "markdown",
   "metadata": {},
   "source": [
    "## Create a data array for the second cohort"
   ]
  },
  {
   "cell_type": "code",
   "execution_count": 6,
   "metadata": {},
   "outputs": [
    {
     "name": "stderr",
     "output_type": "stream",
     "text": [
      "Processing 58,018 patients: 1335it [00:01, 836.03it/s]/home/rob/Documents/GitHub/ObesityPY/src/zscore.py:183: RuntimeWarning: divide by zero encountered in double_scalars\n",
      "  Z = (((bmi / M)**L) - 1) / (S * L)\n",
      "Processing 58,018 patients: 58018it [01:25, 682.06it/s]\n"
     ]
    }
   ],
   "source": [
    "x1_2, y1_2, y1_2label, feature_headers, mrns1_2 = build_features.call_build_function(\n",
    "    d2, {}, {}, {}, {}, \n",
    "    agex_low, agex_high, months_from, months_to, \n",
    "    False, prediction='multi'\n",
    ")"
   ]
  },
  {
   "cell_type": "code",
   "execution_count": 7,
   "metadata": {},
   "outputs": [
    {
     "data": {
      "text/plain": [
       "((58018, 19253), (8785, 19253))"
      ]
     },
     "execution_count": 7,
     "metadata": {},
     "output_type": "execute_result"
    }
   ],
   "source": [
    "x1_2.shape, x1_2[(x1_2.sum(axis=1) > 0)].shape"
   ]
  },
  {
   "cell_type": "markdown",
   "metadata": {},
   "source": [
    "## Create a dictionary id for the weight classifications\n",
    "\n",
    "**Note:** severe obesity is a subset of 'obese'"
   ]
  },
  {
   "cell_type": "code",
   "execution_count": 8,
   "metadata": {
    "collapsed": true
   },
   "outputs": [],
   "source": [
    "label_ix = {'underweight':0,'normal':1,'overweight':2,'obese':3,'class I severe obesity':4,'class II severe obesity':5}"
   ]
  },
  {
   "cell_type": "markdown",
   "metadata": {},
   "source": [
    "## Prepare the data for cohort 1 w/maternal requirement for inclusion"
   ]
  },
  {
   "cell_type": "code",
   "execution_count": 9,
   "metadata": {
    "scrolled": true
   },
   "outputs": [
    {
     "name": "stdout",
     "output_type": "stream",
     "text": [
      "Using pre-prepared data\n",
      "\n",
      "Original cohort size is: 52,945, number of features: 19,253\n",
      "total number of people who have a valid BMI measured (10 > BMI < 40): 11,484\n",
      "total number of people who have all filtered variables: 52,945\n",
      "total number of people who have maternal data available: 3,451\n",
      "intersection of the three is: 3,449\n"
     ]
    },
    {
     "name": "stderr",
     "output_type": "stream",
     "text": [
      "/home/rob/anaconda3/lib/python3.6/site-packages/numpy/lib/function_base.py:3167: RuntimeWarning: invalid value encountered in true_divide\n",
      "  c /= stddev[:, None]\n",
      "/home/rob/anaconda3/lib/python3.6/site-packages/numpy/lib/function_base.py:3168: RuntimeWarning: invalid value encountered in true_divide\n",
      "  c /= stddev[None, :]\n"
     ]
    },
    {
     "name": "stdout",
     "output_type": "stream",
     "text": [
      "filtered correlated features to: 18,910\n",
      "corr matrix is filtered to size: (19253, 18910)\n",
      "output is: average: 16.684, min: 10.470, max: 35.320\n",
      "total patients: 3,449, positive: 642.00, negative: 2,807.00\n",
      "normalizing output...\n",
      "Using pre-prepared data\n",
      "1698 features are binary\n",
      "Predicting BMI at age: 4.5 to 5.5 years, from data in ages: 0 - 24 months\n",
      "filtering patients with: []\n",
      "total size: 3,449 x 19,253\n"
     ]
    }
   ],
   "source": [
    "x2_1_mom, y2_1_mom, y2_1label_mom, mrns2_1_mom, ix_filter_1_mom, feature_headers2_1_mom, corr_headers_filtered_1_mom, corrs_matrix_filtered_1_mom, ix_corr_headers_1_mom = \\\n",
    "    train.prepare_data_for_analysis({}, {}, {}, {}, {},\n",
    "        x1_1, y1_1, y1_1label[:,label_ix['obese']], feature_headers, mrns1_1,\n",
    "        agex_low, agex_high, months_from, months_to,\n",
    "        filterSTR=[],\n",
    "        variablesubset=[],\n",
    "        do_impute=False,\n",
    "        do_normalize=False,\n",
    "        min_occur=0,\n",
    "        feature_info=False,\n",
    "        delay_print=False,\n",
    "        lasso_selection=False,\n",
    "        use_maternal=True)"
   ]
  },
  {
   "cell_type": "markdown",
   "metadata": {},
   "source": [
    "## Prepare the data for cohort 1 w/o maternal requirement for inclusion"
   ]
  },
  {
   "cell_type": "code",
   "execution_count": 10,
   "metadata": {},
   "outputs": [
    {
     "name": "stdout",
     "output_type": "stream",
     "text": [
      "Using pre-prepared data\n",
      "\n",
      "Original cohort size is: 52,945, number of features: 19,253\n",
      "total number of people who have a valid BMI measured (10 > BMI < 40): 11,484\n",
      "total number of people who have all filtered variables: 52,945\n",
      "total number of people who have maternal data available: 3,451\n",
      "11,484 patients selected (excludes maternal)...\n"
     ]
    },
    {
     "name": "stderr",
     "output_type": "stream",
     "text": [
      "/home/rob/anaconda3/lib/python3.6/site-packages/numpy/lib/function_base.py:3167: RuntimeWarning: invalid value encountered in true_divide\n",
      "  c /= stddev[:, None]\n",
      "/home/rob/anaconda3/lib/python3.6/site-packages/numpy/lib/function_base.py:3168: RuntimeWarning: invalid value encountered in true_divide\n",
      "  c /= stddev[None, :]\n"
     ]
    },
    {
     "name": "stdout",
     "output_type": "stream",
     "text": [
      "filtered correlated features to: 18,910\n",
      "corr matrix is filtered to size: (19253, 18910)\n",
      "output is: average: 16.770, min: 10.270, max: 39.150\n",
      "total patients: 11,484, positive: 2,275.00, negative: 9,209.00\n",
      "normalizing output...\n",
      "Using pre-prepared data\n",
      "1698 features are binary\n",
      "Predicting BMI at age: 4.5 to 5.5 years, from data in ages: 0 - 24 months\n",
      "filtering patients with: []\n",
      "total size: 11,484 x 19,253\n"
     ]
    }
   ],
   "source": [
    "x2_1, y2_1, y2_1label, mrns2_1, ix_filter_1, feature_headers2_1, corr_headers_filtered_1, corrs_matrix_filtered_1, ix_corr_headers_1 = \\\n",
    "    train.prepare_data_for_analysis({}, {}, {}, {}, {},\n",
    "        x1_1, y1_1, y1_1label[:,label_ix['obese']], feature_headers, mrns1_1,\n",
    "        agex_low, agex_high, months_from, months_to,\n",
    "        filterSTR=[],\n",
    "        variablesubset=[],\n",
    "        do_impute=False,\n",
    "        do_normalize=False,\n",
    "        min_occur=0,\n",
    "        feature_info=False,\n",
    "        delay_print=False,\n",
    "        lasso_selection=False,\n",
    "        use_maternal=False)"
   ]
  },
  {
   "cell_type": "markdown",
   "metadata": {},
   "source": [
    "## Prepare the data for cohort 2 w/o maternal requirement for inclusion"
   ]
  },
  {
   "cell_type": "code",
   "execution_count": 11,
   "metadata": {},
   "outputs": [
    {
     "name": "stdout",
     "output_type": "stream",
     "text": [
      "Using pre-prepared data\n",
      "\n",
      "Original cohort size is: 58,018, number of features: 19,253\n",
      "total number of people who have a valid BMI measured (10 > BMI < 40): 8,671\n",
      "total number of people who have all filtered variables: 58,018\n",
      "total number of people who have maternal data available: 0\n",
      "8,671 patients selected (excludes maternal)...\n"
     ]
    },
    {
     "name": "stderr",
     "output_type": "stream",
     "text": [
      "/home/rob/anaconda3/lib/python3.6/site-packages/numpy/lib/function_base.py:3167: RuntimeWarning: invalid value encountered in true_divide\n",
      "  c /= stddev[:, None]\n",
      "/home/rob/anaconda3/lib/python3.6/site-packages/numpy/lib/function_base.py:3168: RuntimeWarning: invalid value encountered in true_divide\n",
      "  c /= stddev[None, :]\n"
     ]
    },
    {
     "name": "stdout",
     "output_type": "stream",
     "text": [
      "filtered correlated features to: 18,910\n",
      "corr matrix is filtered to size: (19253, 18910)\n",
      "output is: average: 16.839, min: 10.030, max: 39.840\n",
      "total patients: 8,671, positive: 1,905.00, negative: 6,766.00\n",
      "normalizing output...\n",
      "Using pre-prepared data\n",
      "1698 features are binary\n",
      "Predicting BMI at age: 4.5 to 5.5 years, from data in ages: 0 - 24 months\n",
      "filtering patients with: []\n",
      "total size: 8,671 x 19,253\n"
     ]
    }
   ],
   "source": [
    "x2_2, y2_2, y2_2label, mrns2_2, ix_filter_2, feature_headers2_2, corr_headers_filtered_2, corrs_matrix_filtered_2, ix_corr_headers_2 = \\\n",
    "    train.prepare_data_for_analysis({}, {}, {}, {}, {},\n",
    "        x1_2, y1_2, y1_2label[:,label_ix['obese']], feature_headers, mrns1_2,\n",
    "        agex_low, agex_high, months_from, months_to,\n",
    "        filterSTR=[],\n",
    "        variablesubset=[],\n",
    "        do_impute=False,\n",
    "        do_normalize=False,\n",
    "        min_occur=0,\n",
    "        feature_info=False,\n",
    "        delay_print=False,\n",
    "        lasso_selection=False,\n",
    "        use_maternal=False)"
   ]
  },
  {
   "cell_type": "markdown",
   "metadata": {},
   "source": [
    "## Compare the size of each data set and the gender parity"
   ]
  },
  {
   "cell_type": "code",
   "execution_count": 12,
   "metadata": {},
   "outputs": [
    {
     "data": {
      "text/plain": [
       "(52945, 5775, 5719)"
      ]
     },
     "execution_count": 12,
     "metadata": {},
     "output_type": "execute_result"
    }
   ],
   "source": [
    "x1_1.shape[0], (x1_1[:, feature_headers.index('Gender:0 male')] > 0).sum(), (x1_1[:, feature_headers.index('Gender:1 female')] > 0).sum()"
   ]
  },
  {
   "cell_type": "code",
   "execution_count": 13,
   "metadata": {},
   "outputs": [
    {
     "data": {
      "text/plain": [
       "(58018, 4688, 4114)"
      ]
     },
     "execution_count": 13,
     "metadata": {},
     "output_type": "execute_result"
    }
   ],
   "source": [
    "x1_2.shape[0], (x1_2[:, feature_headers.index('Gender:0 male')] > 0).sum(), (x1_2[:, feature_headers.index('Gender:1 female')] > 0).sum()"
   ]
  },
  {
   "cell_type": "code",
   "execution_count": 14,
   "metadata": {},
   "outputs": [
    {
     "data": {
      "text/plain": [
       "(3449, 1751, 1698)"
      ]
     },
     "execution_count": 14,
     "metadata": {},
     "output_type": "execute_result"
    }
   ],
   "source": [
    "x2_1_mom.shape[0], (x2_1_mom[:, feature_headers2_1_mom.index('Gender:0 male')] > 0).sum(), (x2_1_mom[:, feature_headers2_1_mom.index('Gender:1 female')] > 0).sum()"
   ]
  },
  {
   "cell_type": "code",
   "execution_count": 15,
   "metadata": {},
   "outputs": [
    {
     "data": {
      "text/plain": [
       "(11484, 5770, 5714)"
      ]
     },
     "execution_count": 15,
     "metadata": {},
     "output_type": "execute_result"
    }
   ],
   "source": [
    "x2_1.shape[0], (x2_1[:, feature_headers2_1.index('Gender:0 male')] > 0).sum(), (x2_1[:, feature_headers2_1.index('Gender:1 female')] > 0).sum()"
   ]
  },
  {
   "cell_type": "code",
   "execution_count": 16,
   "metadata": {},
   "outputs": [
    {
     "data": {
      "text/plain": [
       "(8671, 4613, 4058)"
      ]
     },
     "execution_count": 16,
     "metadata": {},
     "output_type": "execute_result"
    }
   ],
   "source": [
    "x2_2.shape[0], (x2_2[:, feature_headers2_2.index('Gender:0 male')] > 0).sum(), (x2_2[:, feature_headers2_2.index('Gender:1 female')] > 0).sum()"
   ]
  },
  {
   "cell_type": "code",
   "execution_count": 17,
   "metadata": {},
   "outputs": [
    {
     "data": {
      "text/plain": [
       "(26438, 26507, 52945)"
      ]
     },
     "execution_count": 17,
     "metadata": {},
     "output_type": "execute_result"
    }
   ],
   "source": [
    "# this is for the whole data set for cohort 1\n",
    "boys = 0\n",
    "girls = 0\n",
    "for pid in d1:\n",
    "    if d1[pid]['gender']:\n",
    "        boys += 1\n",
    "    else:\n",
    "        girls += 1\n",
    "boys, girls, boys + girls"
   ]
  },
  {
   "cell_type": "code",
   "execution_count": 18,
   "metadata": {},
   "outputs": [
    {
     "data": {
      "text/plain": [
       "(27607, 30411, 58018)"
      ]
     },
     "execution_count": 18,
     "metadata": {},
     "output_type": "execute_result"
    }
   ],
   "source": [
    "# this is for the whole data set for cohort 2\n",
    "boys = 0\n",
    "girls = 0\n",
    "for pid in d2:\n",
    "    if d2[pid]['gender']:\n",
    "        boys += 1\n",
    "    else:\n",
    "        girls += 1\n",
    "boys, girls, boys + girls"
   ]
  },
  {
   "cell_type": "markdown",
   "metadata": {},
   "source": [
    "## Display some of the descriptive materials"
   ]
  },
  {
   "cell_type": "code",
   "execution_count": 21,
   "metadata": {},
   "outputs": [
    {
     "name": "stdout",
     "output_type": "stream",
     "text": [
      "Cohort 1 Weight Classification Breakdown\n",
      "\n",
      "\u001b[1m                  Weight Class |      N |      % | % Boys | % Girls\u001b[0m\n",
      "                   underweight |    257 |   2.2% |  52.1% |  47.9%\n",
      "                        normal |  6,917 |  60.2% |  48.3% |  51.7%\n",
      "                    overweight |  2,035 |  17.7% |  48.8% |  51.2%\n",
      "                         obese |  2,275 |  19.8% |  57.4% |  42.6%\n",
      "        class I severe obesity |    375 |   3.3% |  57.6% |  42.4%\n",
      "       class II severe obesity |     95 |   0.8% |  61.1% |  38.9%\n",
      "11484.0\n"
     ]
    }
   ],
   "source": [
    "print('Cohort 1 Weight Classification Breakdown\\n')\n",
    "cats = ['Weight Class', 'N', '%', '% Boys', '% Girls']\n",
    "print('\\033[1m' + ' | '.join((label.rjust(30) if i == 0 else label.rjust(6) for i, label in enumerate(cats))) + '\\033[0m')\n",
    "\n",
    "total = y1_1label[ix_filter_1, :4].sum()\n",
    "for i, (label, num) in enumerate(zip(label_ix, y1_1label[ix_filter_1].sum(axis=0))):\n",
    "    bpct = (ix_filter_1 & (y1_1label[:, i] == 1) & (x1_1[:, feature_headers.index('Gender:0 male')] == 1)).sum() / num * 100\n",
    "    print(' | '.join((label.rjust(30), '{0:,.0f}'.format(num).rjust(6), '{0:2.1f}%'.format(100*num/total).rjust(6), '{0:2.1f}%'.format(bpct).rjust(6), '{0:2.1f}%'.format(100 - bpct).rjust(6))))\n",
    "print(total)"
   ]
  },
  {
   "cell_type": "code",
   "execution_count": 22,
   "metadata": {},
   "outputs": [
    {
     "name": "stdout",
     "output_type": "stream",
     "text": [
      "Cohort 2 Weight Classification Breakdown\n",
      "\n",
      "\u001b[1m                  Weight Class |      N |      % | % Boys | % Girls\u001b[0m\n",
      "                   underweight |    287 |   3.3% |  50.5% |  49.5%\n",
      "                        normal |  4,994 |  57.6% |  53.4% |  46.6%\n",
      "                    overweight |  1,485 |  17.1% |  50.1% |  49.9%\n",
      "                         obese |  1,905 |  22.0% |  55.6% |  44.4%\n",
      "        class I severe obesity |    309 |   3.6% |  54.0% |  46.0%\n",
      "       class II severe obesity |    118 |   1.4% |  62.7% |  37.3%\n",
      "8671.0\n"
     ]
    }
   ],
   "source": [
    "print('Cohort 2 Weight Classification Breakdown\\n')\n",
    "cats = ['Weight Class', 'N', '%', '% Boys', '% Girls']\n",
    "print('\\033[1m' + ' | '.join((label.rjust(30) if i == 0 else label.rjust(6) for i, label in enumerate(cats))) + '\\033[0m')\n",
    "\n",
    "total = y1_2label[ix_filter_2, :4].sum()\n",
    "for i, (label, num) in enumerate(zip(label_ix, y1_2label[ix_filter_2].sum(axis=0))):\n",
    "    bpct = (ix_filter_2 & (y1_2label[:, i] == 1) & (x1_2[:, feature_headers.index('Gender:0 male')] == 1)).sum() / num * 100\n",
    "    print(' | '.join((label.rjust(30), '{0:,.0f}'.format(num).rjust(6), '{0:2.1f}%'.format(100*num/total).rjust(6), '{0:2.1f}%'.format(bpct).rjust(6), '{0:2.1f}%'.format(100 - bpct).rjust(6))))\n",
    "print(total)"
   ]
  },
  {
   "cell_type": "code",
   "execution_count": 23,
   "metadata": {},
   "outputs": [
    {
     "name": "stdout",
     "output_type": "stream",
     "text": [
      "Cohort 1 Racial Breakdown\n",
      "\n",
      "\u001b[1m                                Race Category |       N |       % |  % Boys | % Girls% Obese\u001b[0m\n",
      "                                  Race:MULTIRACIAL |   6,585 |   57.3% |   49.8% |   50.2% |   20.6%\n",
      "                                        Race:ASIAN |   1,218 |   10.6% |   53.5% |   46.5% |   14.0%\n",
      "                                  Race:SOUTH ASIAN |       0 |    0.0% |    0.0% |  100.0% |    0.0%\n",
      "                       Race:AFRICAN AMERICAN/BLACK |   1,316 |   11.5% |   50.4% |   49.6% |   22.1%\n",
      "                                        Race:OTHER |     915 |    8.0% |   50.6% |   49.4% |   22.8%\n",
      "                              Race:CAUCASIAN/WHITE |   1,188 |   10.3% |   48.9% |   51.1% |   17.2%\n",
      "            Race:AMERICAN INDIAN OR ALASKAN NATIVE |      85 |    0.7% |   49.4% |   50.6% |   12.9%\n",
      "            Race:NATIVE HAWAIIAN/PACIFIC ISLANDERS |      18 |    0.2% |   55.6% |   44.4% |   11.1%\n"
     ]
    }
   ],
   "source": [
    "print('Cohort 1 Racial Breakdown\\n')\n",
    "cats = ['Race Category', 'N', '%', '% Boys', '% Girls' '% Obese']\n",
    "print('\\033[1m' + ' | '.join((label.rjust(45) if i == 0 else label.rjust(7) for i, label in enumerate(cats))) + '\\033[0m')\n",
    "\n",
    "race_cats = [(i,f) for i, f in enumerate(feature_headers) if f.startswith('Race')]\n",
    "boys_ix = feature_headers.index('Gender:0 male')\n",
    "total = ix_filter_1.sum()\n",
    "for i,f in race_cats:\n",
    "    num = (ix_filter_1 & (x1_1[:, i] == 1)).sum()\n",
    "    opct = (ix_filter_1& (x1_1[:, i] == 1) & (y1_1label[:, label_ix['obese']] == 1)).sum() / num * 100 if num > 0 else 0\n",
    "    numb = (ix_filter_1 & (x1_1[:, i] == 1) & (x1_1[:, boys_ix] == 1)).sum()\n",
    "    bpct = numb / num * 100 if num > 0 else 0\n",
    "    print(' | '.join((f.rjust(50), '{:,.0f}'.format(num).rjust(7), '{:,.1f}%'.format(num/total*100).rjust(7), '{:,.1f}%'.format(bpct).rjust(7), '{:,.1f}%'.format(100-bpct).rjust(7), '{:,.1f}%'.format(opct).rjust(7))))"
   ]
  },
  {
   "cell_type": "code",
   "execution_count": 25,
   "metadata": {},
   "outputs": [
    {
     "name": "stdout",
     "output_type": "stream",
     "text": [
      "Cohort 2 Racial Breakdown\n",
      "\n",
      "\u001b[1m                                Race Category |       N |       % |  % Boys | % Girls% Obese\u001b[0m\n",
      "                             Race:MULTIRACIAL |       0 |    0.0% |    0.0% |  100.0% |    0.0%\n",
      "                                   Race:ASIAN |       0 |    0.0% |    0.0% |  100.0% |    0.0%\n",
      "                             Race:SOUTH ASIAN |     642 |    7.4% |   56.7% |   43.3% |   14.2%\n",
      "                  Race:AFRICAN AMERICAN/BLACK |   1,048 |   12.1% |   54.5% |   45.5% |   17.9%\n",
      "                                   Race:OTHER |   3,394 |   39.1% |   52.1% |   47.9% |   23.5%\n",
      "                         Race:CAUCASIAN/WHITE |     333 |    3.8% |   55.3% |   44.7% |   15.6%\n",
      "       Race:AMERICAN INDIAN OR ALASKAN NATIVE |      43 |    0.5% |   51.2% |   48.8% |   27.9%\n",
      "       Race:NATIVE HAWAIIAN/PACIFIC ISLANDERS |      69 |    0.8% |   62.3% |   37.7% |   14.5%\n"
     ]
    }
   ],
   "source": [
    "print('Cohort 2 Racial Breakdown\\n')\n",
    "cats = ['Race Category', 'N', '%', '% Boys', '% Girls' '% Obese']\n",
    "print('\\033[1m' + ' | '.join((label.rjust(45) if i == 0 else label.rjust(7) for i, label in enumerate(cats))) + '\\033[0m')\n",
    "\n",
    "race_cats = [(i,f) for i, f in enumerate(feature_headers) if f.startswith('Race')]\n",
    "boys_ix = feature_headers.index('Gender:0 male')\n",
    "total = ix_filter_2.sum()\n",
    "for i,f in race_cats:\n",
    "    num = (ix_filter_2 & (x1_2[:, i] == 1)).sum()\n",
    "    opct = (ix_filter_2& (x1_2[:, i] == 1) & (y1_2label[:, label_ix['obese']] == 1)).sum() / num * 100 if num > 0 else 0\n",
    "    numb = (ix_filter_2 & (x1_2[:, i] == 1) & (x1_2[:, boys_ix] == 1)).sum()\n",
    "    bpct = numb / num * 100 if num > 0 else 0\n",
    "    print(' | '.join((f.rjust(45), '{:,.0f}'.format(num).rjust(7), '{:,.1f}%'.format(num/total*100).rjust(7), '{:,.1f}%'.format(bpct).rjust(7), '{:,.1f}%'.format(100-bpct).rjust(7), '{:,.1f}%'.format(opct).rjust(7))))"
   ]
  },
  {
   "cell_type": "code",
   "execution_count": 26,
   "metadata": {
    "scrolled": true
   },
   "outputs": [
    {
     "data": {
      "image/png": "[encoded data removed]",
      "text/plain": [
       "<matplotlib.figure.Figure at 0x7fc5a0546320>"
      ]
     },
     "metadata": {
      "image/png": {
       "height": 279,
       "width": 567
      }
     },
     "output_type": "display_data"
    }
   ],
   "source": [
    "f, (ax1, ax2) = plt.subplots(1, 2, sharey=True, figsize=(8,4))\n",
    "\n",
    "ax1.grid(axis='y', alpha=0.3)\n",
    "ax1.hist(x2_1[:, feature_headers2_1.index('Number of Visits')], bins=20, range=(0,40))\n",
    "ax1.set_title('Cohort 1')\n",
    "ax1.set_ylabel('Number of Children')\n",
    "ax1.set_xlabel('Number of Visits')\n",
    "yrange = np.linspace(0,6000,13,dtype=int)\n",
    "ax1.set_yticks(yrange)\n",
    "ax1.set_yticklabels(['{:,d}'.format(el) for el in yrange])\n",
    "\n",
    "ax2.grid(axis='y', alpha=0.3)\n",
    "ax2.hist(x2_2[:, feature_headers2_2.index('Number of Visits')], bins=20, range=(0,40))\n",
    "ax2.set_title('Cohort 2')\n",
    "ax2.set_xlabel('Number of Visits')\n",
    "\n",
    "plt.tight_layout()\n",
    "# plt.savefig('<path>/Documents/n_visits_comparison.png', dpi=120, bbox_to_inches=True)\n",
    "plt.show()"
   ]
  },
  {
   "cell_type": "code",
   "execution_count": null,
   "metadata": {
    "collapsed": true
   },
   "outputs": [],
   "source": []
  }
 ],
 "metadata": {
  "kernelspec": {
   "display_name": "Python 3",
   "language": "python",
   "name": "python3"
  },
  "language_info": {
   "codemirror_mode": {
    "name": "ipython",
    "version": 3
   },
   "file_extension": ".py",
   "mimetype": "text/x-python",
   "name": "python",
   "nbconvert_exporter": "python",
   "pygments_lexer": "ipython3",
   "version": "3.6.3"
  }
 },
 "nbformat": 4,
 "nbformat_minor": 2
}
