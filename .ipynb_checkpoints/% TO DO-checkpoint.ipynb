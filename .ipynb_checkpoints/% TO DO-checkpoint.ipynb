{
 "cells": [
  {
   "cell_type": "markdown",
   "metadata": {},
   "source": [
    "#  To Do log for ObesityPY updates"
   ]
  },
  {
   "cell_type": "markdown",
   "metadata": {},
   "source": [
    "### Update 'race' identifiers in `config.py`\n",
    "\n",
    "- Find out if they combined race and ethnicity purposefully, or if that is just how their system classifies them.\n",
    " - **issue:** hispanic is an ethnicity, not a race, but is being used interchangeably in the data\n",
    " - if this is just how it is, will have to drop the ethnicity aspect and combine with race category to ensure data validity doesn't get ruined by used ethnicity for some, or create a non-reported category\n",
    "- Breakdown from Bellevue patient data as of 23 August 2018:\n",
    "    ```\n",
    "    {'BLACK OR AFRICAN AMERICAN': 13080,\n",
    "     'WHITE': 6796,\n",
    "     'OTHER': 21692,\n",
    "     'SOUTH ASIAN': 110,\n",
    "     'HISPANIC': 10548,\n",
    "     'NATIVE HAWAIIAN/PACIFIC ISLAND': 1779,\n",
    "     'UNKNOWN': 13434,\n",
    "     'ASIAN INDIAN': 5533,\n",
    "     'DECLINED': 2087,\n",
    "     'HISPANIC OTHER': 403,\n",
    "     'HISPANIC BLACK': 29,\n",
    "     'AMERICAN INDIAN OR ALASKAN NATIVE': 204,\n",
    "     'ALASKAN NATIVE': 33,\n",
    "     'HISPANIC WHITE': 31,\n",
    "     'BANGLADESHI': 6,\n",
    "     'OTHER PACIFIC ISLAND': 17,\n",
    "     'AMERICAN INDIAN ': 39}\n",
    "     ```\n",
    "     \n",
    "#### Progress\n",
    "- added all non-existent categories to [raceList.txt](/GitHub/ObesityPY/auxdata/raceList.txt)"
   ]
  },
  {
   "cell_type": "markdown",
   "metadata": {},
   "source": [
    "### Update ```build_features.py```\n",
    "\n",
    "- Create additional parameter for Bellevue data for patients\n",
    " - list of patient data dictionaries?\n",
    " - dictionary of dictionaries?\n",
    " - same will have to be done for maternal data\n",
    " \n",
    "- Create exceptions for empty or missing data categories so ```call_build_function()``` does not fail when run"
   ]
  },
  {
   "cell_type": "markdown",
   "metadata": {},
   "source": [
    "### Modeling ideas with ht/wt/bmi data from Bellevue\n",
    "\n",
    "- Timeseries model for imputation missing data from H+H data\n",
    "- Timeseries model to embed within prediction model\n",
    "- Autoencoder for combined data for imputation"
   ]
  },
  {
   "cell_type": "markdown",
   "metadata": {},
   "source": [
    "### Ideas for incorporating data\n",
    "\n",
    "- crime data\n",
    " - abandoned buildings/closed shops/other abandonment type data\n",
    " - car crashes (unsafe outdoor conditions)\n",
    "- more census data signifiers from recent ACS\n",
    "- food & restaurant data\n",
    "- parks/\"green space\" data\n",
    "- air pollution/quality data"
   ]
  },
  {
   "cell_type": "code",
   "execution_count": null,
   "metadata": {},
   "outputs": [],
   "source": []
  }
 ],
 "metadata": {
  "kernelspec": {
   "display_name": "Python 3",
   "language": "python",
   "name": "python3"
  },
  "language_info": {
   "codemirror_mode": {
    "name": "ipython",
    "version": 3
   },
   "file_extension": ".py",
   "mimetype": "text/x-python",
   "name": "python",
   "nbconvert_exporter": "python",
   "pygments_lexer": "ipython3",
   "version": "3.6.5"
  }
 },
 "nbformat": 4,
 "nbformat_minor": 2
}
